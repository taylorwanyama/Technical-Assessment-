{
 "cells": [
  {
   "cell_type": "markdown",
   "id": "f640ac03",
   "metadata": {},
   "source": [
    "# Clinical Data - Modeling & Evaluation\n",
    "This notebook trains and evaluates predictive models for clinical response."
   ]
  },
  {
   "cell_type": "code",
   "execution_count": 1,
   "id": "47f16d95",
   "metadata": {},
   "outputs": [],
   "source": [
    "import sys\n",
    "import os\n",
    "import pandas as pd\n",
    "import numpy as np\n",
    "import matplotlib.pyplot as plt\n",
    "import seaborn as sns\n",
    "sns.set_style(\"darkgrid\")\n",
    "import joblib\n",
    "from sklearn.model_selection import train_test_split, cross_val_score, GridSearchCV\n",
    "from sklearn.linear_model import LogisticRegression\n",
    "from sklearn.ensemble import RandomForestClassifier\n",
    "from sklearn.metrics import accuracy_score, precision_score, recall_score, f1_score, roc_auc_score, classification_report, roc_curve, auc\n"
   ]
  },
  {
   "cell_type": "code",
   "execution_count": 2,
   "id": "b317362a",
   "metadata": {},
   "outputs": [
    {
     "name": "stdout",
     "output_type": "stream",
     "text": [
      "Notebook is running from: c:\\Users\\USER\\Downloads\\Tech assessment\\notebooks\n",
      "Added to path: c:\\Users\\USER\\Downloads\\Tech assessment\n",
      "Changed working directory to: c:\\Users\\USER\\Downloads\\Tech assessment\n"
     ]
    },
    {
     "data": {
      "text/html": [
       "<div>\n",
       "<style scoped>\n",
       "    .dataframe tbody tr th:only-of-type {\n",
       "        vertical-align: middle;\n",
       "    }\n",
       "\n",
       "    .dataframe tbody tr th {\n",
       "        vertical-align: top;\n",
       "    }\n",
       "\n",
       "    .dataframe thead th {\n",
       "        text-align: right;\n",
       "    }\n",
       "</style>\n",
       "<table border=\"1\" class=\"dataframe\">\n",
       "  <thead>\n",
       "    <tr style=\"text-align: right;\">\n",
       "      <th></th>\n",
       "      <th>ID</th>\n",
       "      <th>DOSE</th>\n",
       "      <th>AGE</th>\n",
       "      <th>WT</th>\n",
       "      <th>SEX</th>\n",
       "      <th>CMAX</th>\n",
       "      <th>AUC</th>\n",
       "      <th>RESPONSE</th>\n",
       "    </tr>\n",
       "  </thead>\n",
       "  <tbody>\n",
       "    <tr>\n",
       "      <th>0</th>\n",
       "      <td>PT0001</td>\n",
       "      <td>200.0</td>\n",
       "      <td>62.450712</td>\n",
       "      <td>86.354829</td>\n",
       "      <td>1.0</td>\n",
       "      <td>26.249404</td>\n",
       "      <td>251.322910</td>\n",
       "      <td>1.0</td>\n",
       "    </tr>\n",
       "    <tr>\n",
       "      <th>1</th>\n",
       "      <td>PT0002</td>\n",
       "      <td>400.0</td>\n",
       "      <td>52.926035</td>\n",
       "      <td>61.167520</td>\n",
       "      <td>0.0</td>\n",
       "      <td>87.865616</td>\n",
       "      <td>598.853233</td>\n",
       "      <td>1.0</td>\n",
       "    </tr>\n",
       "    <tr>\n",
       "      <th>2</th>\n",
       "      <td>PT0003</td>\n",
       "      <td>200.0</td>\n",
       "      <td>64.715328</td>\n",
       "      <td>88.044089</td>\n",
       "      <td>0.0</td>\n",
       "      <td>33.001143</td>\n",
       "      <td>274.196583</td>\n",
       "      <td>1.0</td>\n",
       "    </tr>\n",
       "    <tr>\n",
       "      <th>3</th>\n",
       "      <td>PT0004</td>\n",
       "      <td>100.0</td>\n",
       "      <td>77.845448</td>\n",
       "      <td>95.334568</td>\n",
       "      <td>0.0</td>\n",
       "      <td>6.152791</td>\n",
       "      <td>49.149857</td>\n",
       "      <td>0.0</td>\n",
       "    </tr>\n",
       "    <tr>\n",
       "      <th>4</th>\n",
       "      <td>PT0005</td>\n",
       "      <td>400.0</td>\n",
       "      <td>51.487699</td>\n",
       "      <td>81.201524</td>\n",
       "      <td>0.0</td>\n",
       "      <td>37.452883</td>\n",
       "      <td>294.004531</td>\n",
       "      <td>1.0</td>\n",
       "    </tr>\n",
       "  </tbody>\n",
       "</table>\n",
       "</div>"
      ],
      "text/plain": [
       "       ID   DOSE        AGE         WT  SEX       CMAX         AUC  RESPONSE\n",
       "0  PT0001  200.0  62.450712  86.354829  1.0  26.249404  251.322910       1.0\n",
       "1  PT0002  400.0  52.926035  61.167520  0.0  87.865616  598.853233       1.0\n",
       "2  PT0003  200.0  64.715328  88.044089  0.0  33.001143  274.196583       1.0\n",
       "3  PT0004  100.0  77.845448  95.334568  0.0   6.152791   49.149857       0.0\n",
       "4  PT0005  400.0  51.487699  81.201524  0.0  37.452883  294.004531       1.0"
      ]
     },
     "execution_count": 2,
     "metadata": {},
     "output_type": "execute_result"
    }
   ],
   "source": [
    "print(f\"Notebook is running from: {os.getcwd()}\")\n",
    "\n",
    "# Add parent directory to path\n",
    "parent_dir = os.path.abspath('..')\n",
    "sys.path.insert(0, parent_dir)\n",
    "print(f\"Added to path: {parent_dir}\")\n",
    "\n",
    "# Change working directory to parent\n",
    "os.chdir(parent_dir)\n",
    "print(f\"Changed working directory to: {os.getcwd()}\")\n",
    "\n",
    "df= pd.read_csv(\"data/imputed_data.csv\")\n",
    "df.head()"
   ]
  },
  {
   "cell_type": "code",
   "execution_count": 3,
   "id": "d31ae0b7",
   "metadata": {},
   "outputs": [
    {
     "name": "stdout",
     "output_type": "stream",
     "text": [
      "Missing values in each column:\n",
      "ID          0\n",
      "DOSE        0\n",
      "AGE         0\n",
      "WT          0\n",
      "SEX         0\n",
      "CMAX        0\n",
      "AUC         0\n",
      "RESPONSE    0\n",
      "dtype: int64\n"
     ]
    }
   ],
   "source": [
    "print(f\"Missing values in each column:\\n{df.isnull().sum()}\")"
   ]
  },
  {
   "cell_type": "code",
   "execution_count": 4,
   "id": "169784da",
   "metadata": {},
   "outputs": [
    {
     "name": "stdout",
     "output_type": "stream",
     "text": [
      "<class 'pandas.core.frame.DataFrame'>\n",
      "RangeIndex: 480 entries, 0 to 479\n",
      "Data columns (total 8 columns):\n",
      " #   Column    Non-Null Count  Dtype  \n",
      "---  ------    --------------  -----  \n",
      " 0   ID        480 non-null    object \n",
      " 1   DOSE      480 non-null    float64\n",
      " 2   AGE       480 non-null    float64\n",
      " 3   WT        480 non-null    float64\n",
      " 4   SEX       480 non-null    float64\n",
      " 5   CMAX      480 non-null    float64\n",
      " 6   AUC       480 non-null    float64\n",
      " 7   RESPONSE  480 non-null    float64\n",
      "dtypes: float64(7), object(1)\n",
      "memory usage: 30.1+ KB\n",
      "Data Frame Info: None\n"
     ]
    }
   ],
   "source": [
    "\n",
    "print(f\"Data Frame Info: {df.info()}\")"
   ]
  },
  {
   "cell_type": "code",
   "execution_count": 5,
   "id": "0cee3118",
   "metadata": {},
   "outputs": [
    {
     "name": "stdout",
     "output_type": "stream",
     "text": [
      " Number of duplicate rows: 0\n"
     ]
    }
   ],
   "source": [
    "\n",
    "print(f\" Number of duplicate rows: {df.duplicated().sum()}\")"
   ]
  },
  {
   "cell_type": "code",
   "execution_count": 6,
   "id": "4c3b5936",
   "metadata": {},
   "outputs": [
    {
     "data": {
      "image/png": "[encoded data removed]",
      "text/plain": [
       "<Figure size 640x480 with 1 Axes>"
      ]
     },
     "metadata": {},
     "output_type": "display_data"
    }
   ],
   "source": [
    "# Check target distribution\n",
    "sns.countplot(x=\"RESPONSE\", data=df)\n",
    "plt.title(\"Distribution of RESPONSE Variable\")\n",
    "plt.show()"
   ]
  },
  {
   "cell_type": "code",
   "execution_count": 7,
   "id": "decd4546",
   "metadata": {},
   "outputs": [],
   "source": [
    "# defining the X and the y variables, \n",
    "X = df.drop(columns=[\"RESPONSE\",\"ID\"], axis=1)\n",
    "y = df[\"RESPONSE\"]"
   ]
  },
  {
   "cell_type": "code",
   "execution_count": 8,
   "id": "cfe9fc55",
   "metadata": {},
   "outputs": [
    {
     "name": "stdout",
     "output_type": "stream",
     "text": [
      "Training set size: (384, 6), Testing set size: (96, 6)\n"
     ]
    }
   ],
   "source": [
    "# Splitting the data into training and testing sets\n",
    "X_train, X_test, y_train, y_test = train_test_split(X, y, test_size=0.2, random_state=42, stratify=y)\n",
    "print(f\"Training set size: {X_train.shape}, Testing set size: {X_test.shape}\")"
   ]
  },
  {
   "cell_type": "code",
   "execution_count": 9,
   "id": "f682fc90",
   "metadata": {},
   "outputs": [
    {
     "data": {
      "text/plain": [
       "array([1., 1., 0., 0., 1., 1., 1., 1., 1., 0., 0., 1., 1., 0., 1., 0., 0.,\n",
       "       1., 1., 1., 1., 1., 0., 1., 1., 0., 1., 1., 1., 0., 1., 1., 1., 1.,\n",
       "       1., 0., 0., 1., 1., 1., 0., 1., 1., 1., 1., 0., 0., 0., 1., 0., 0.,\n",
       "       0., 1., 0., 1., 0., 0., 1., 0., 1., 0., 0., 1., 1., 0., 0., 1., 0.,\n",
       "       1., 0., 0., 0., 0., 0., 0., 1., 0., 0., 1., 1., 0., 1., 0., 1., 0.,\n",
       "       1., 0., 1., 0., 1., 1., 0., 0., 0., 0., 0.])"
      ]
     },
     "execution_count": 9,
     "metadata": {},
     "output_type": "execute_result"
    }
   ],
   "source": [
    "#1. Logistic Regression\n",
    "logistic_model = LogisticRegression()\n",
    "logistic_model.fit(X_train, y_train)\n",
    "y_pred_lr = logistic_model.predict(X_test)\n",
    "y_pred_lr"
   ]
  },
  {
   "cell_type": "code",
   "execution_count": 10,
   "id": "70be66eb",
   "metadata": {},
   "outputs": [
    {
     "name": "stdout",
     "output_type": "stream",
     "text": [
      "              precision    recall  f1-score   support\n",
      "\n",
      " No Response       0.85      0.91      0.88        43\n",
      "    Response       0.92      0.87      0.89        53\n",
      "\n",
      "    accuracy                           0.89        96\n",
      "   macro avg       0.88      0.89      0.88        96\n",
      "weighted avg       0.89      0.89      0.89        96\n",
      "\n"
     ]
    }
   ],
   "source": [
    "print(classification_report(y_test, y_pred_lr, target_names=['No Response', 'Response']))"
   ]
  },
  {
   "cell_type": "code",
   "execution_count": 11,
   "id": "49f5ce2f",
   "metadata": {},
   "outputs": [
    {
     "name": "stdout",
     "output_type": "stream",
     "text": [
      "              precision    recall  f1-score   support\n",
      "\n",
      " No Response       0.86      0.86      0.86        43\n",
      "    Response       0.89      0.89      0.89        53\n",
      "\n",
      "    accuracy                           0.88        96\n",
      "   macro avg       0.87      0.87      0.87        96\n",
      "weighted avg       0.88      0.88      0.88        96\n",
      "\n"
     ]
    }
   ],
   "source": [
    "# Random Forest Classifier\n",
    "rf_model = RandomForestClassifier(class_weight = 'balanced', random_state=42)\n",
    "rf_model.fit(X_train, y_train)\n",
    "y_pred_rf = rf_model.predict(X_test)\n",
    "print(classification_report(y_test, y_pred_rf, target_names=['No Response', 'Response']))"
   ]
  },
  {
   "cell_type": "code",
   "execution_count": 13,
   "id": "18371f3f",
   "metadata": {},
   "outputs": [
    {
     "name": "stdout",
     "output_type": "stream",
     "text": [
      "Logistic Regression model saved to 'trained_models/logistic_regression_model.joblib'\n"
     ]
    }
   ],
   "source": [
    "joblib.dump(logistic_model, 'trained_models/logistic_regression_model.joblib')\n",
    "print(\"Logistic Regression model saved to 'trained_models/logistic_regression_model.joblib'\")"
   ]
  },
  {
   "cell_type": "code",
   "execution_count": 14,
   "id": "fa3dfcce",
   "metadata": {},
   "outputs": [
    {
     "name": "stdout",
     "output_type": "stream",
     "text": [
      "Random Forest model saved to 'trained_models/random_forest_model.joblib'\n"
     ]
    }
   ],
   "source": [
    "joblib.dump(rf_model, 'trained_models/random_forest_model.joblib')\n",
    "print(\"Random Forest model saved to 'trained_models/random_forest_model.joblib'\")"
   ]
  }
 ],
 "metadata": {
  "kernelspec": {
   "display_name": "Python 3",
   "language": "python",
   "name": "python3"
  },
  "language_info": {
   "codemirror_mode": {
    "name": "ipython",
    "version": 3
   },
   "file_extension": ".py",
   "mimetype": "text/x-python",
   "name": "python",
   "nbconvert_exporter": "python",
   "pygments_lexer": "ipython3",
   "version": "3.12.10"
  }
 },
 "nbformat": 4,
 "nbformat_minor": 5
}
